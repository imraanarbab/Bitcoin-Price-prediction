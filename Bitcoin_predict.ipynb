{
 "cells": [
  {
   "cell_type": "code",
   "execution_count": 1,
   "id": "92d4292c-229d-44fa-accd-c0977eb188eb",
   "metadata": {},
   "outputs": [
    {
     "data": {
      "text/html": [
       "<div>\n",
       "<style scoped>\n",
       "    .dataframe tbody tr th:only-of-type {\n",
       "        vertical-align: middle;\n",
       "    }\n",
       "\n",
       "    .dataframe tbody tr th {\n",
       "        vertical-align: top;\n",
       "    }\n",
       "\n",
       "    .dataframe thead th {\n",
       "        text-align: right;\n",
       "    }\n",
       "</style>\n",
       "<table border=\"1\" class=\"dataframe\">\n",
       "  <thead>\n",
       "    <tr style=\"text-align: right;\">\n",
       "      <th></th>\n",
       "      <th>Timestamp</th>\n",
       "      <th>Open</th>\n",
       "      <th>High</th>\n",
       "      <th>Low</th>\n",
       "      <th>Close</th>\n",
       "      <th>Volume_(BTC)</th>\n",
       "      <th>Volume_(Currency)</th>\n",
       "      <th>Weighted_Price</th>\n",
       "    </tr>\n",
       "  </thead>\n",
       "  <tbody>\n",
       "    <tr>\n",
       "      <th>0</th>\n",
       "      <td>1325317920</td>\n",
       "      <td>4.39</td>\n",
       "      <td>4.39</td>\n",
       "      <td>4.39</td>\n",
       "      <td>4.39</td>\n",
       "      <td>0.455581</td>\n",
       "      <td>2.0</td>\n",
       "      <td>4.39</td>\n",
       "    </tr>\n",
       "    <tr>\n",
       "      <th>1</th>\n",
       "      <td>1325317980</td>\n",
       "      <td>NaN</td>\n",
       "      <td>NaN</td>\n",
       "      <td>NaN</td>\n",
       "      <td>NaN</td>\n",
       "      <td>NaN</td>\n",
       "      <td>NaN</td>\n",
       "      <td>NaN</td>\n",
       "    </tr>\n",
       "    <tr>\n",
       "      <th>2</th>\n",
       "      <td>1325318040</td>\n",
       "      <td>NaN</td>\n",
       "      <td>NaN</td>\n",
       "      <td>NaN</td>\n",
       "      <td>NaN</td>\n",
       "      <td>NaN</td>\n",
       "      <td>NaN</td>\n",
       "      <td>NaN</td>\n",
       "    </tr>\n",
       "    <tr>\n",
       "      <th>3</th>\n",
       "      <td>1325318100</td>\n",
       "      <td>NaN</td>\n",
       "      <td>NaN</td>\n",
       "      <td>NaN</td>\n",
       "      <td>NaN</td>\n",
       "      <td>NaN</td>\n",
       "      <td>NaN</td>\n",
       "      <td>NaN</td>\n",
       "    </tr>\n",
       "    <tr>\n",
       "      <th>4</th>\n",
       "      <td>1325318160</td>\n",
       "      <td>NaN</td>\n",
       "      <td>NaN</td>\n",
       "      <td>NaN</td>\n",
       "      <td>NaN</td>\n",
       "      <td>NaN</td>\n",
       "      <td>NaN</td>\n",
       "      <td>NaN</td>\n",
       "    </tr>\n",
       "  </tbody>\n",
       "</table>\n",
       "</div>"
      ],
      "text/plain": [
       "    Timestamp  Open  High   Low  Close  Volume_(BTC)  Volume_(Currency)  \\\n",
       "0  1325317920  4.39  4.39  4.39   4.39      0.455581                2.0   \n",
       "1  1325317980   NaN   NaN   NaN    NaN           NaN                NaN   \n",
       "2  1325318040   NaN   NaN   NaN    NaN           NaN                NaN   \n",
       "3  1325318100   NaN   NaN   NaN    NaN           NaN                NaN   \n",
       "4  1325318160   NaN   NaN   NaN    NaN           NaN                NaN   \n",
       "\n",
       "   Weighted_Price  \n",
       "0            4.39  \n",
       "1             NaN  \n",
       "2             NaN  \n",
       "3             NaN  \n",
       "4             NaN  "
      ]
     },
     "execution_count": 1,
     "metadata": {},
     "output_type": "execute_result"
    }
   ],
   "source": [
    "import pandas as pd\n",
    "df = pd.read_csv('bitstampUSD_1-min_data_2012-01-01_to_2021-03-31.csv')\n",
    "df.head()"
   ]
  },
  {
   "cell_type": "code",
   "execution_count": 2,
   "id": "a20e8a78-c9c6-44f4-a201-2fa5c48f74ed",
   "metadata": {},
   "outputs": [
    {
     "data": {
      "text/html": [
       "<div>\n",
       "<style scoped>\n",
       "    .dataframe tbody tr th:only-of-type {\n",
       "        vertical-align: middle;\n",
       "    }\n",
       "\n",
       "    .dataframe tbody tr th {\n",
       "        vertical-align: top;\n",
       "    }\n",
       "\n",
       "    .dataframe thead th {\n",
       "        text-align: right;\n",
       "    }\n",
       "</style>\n",
       "<table border=\"1\" class=\"dataframe\">\n",
       "  <thead>\n",
       "    <tr style=\"text-align: right;\">\n",
       "      <th></th>\n",
       "      <th>Timestamp</th>\n",
       "      <th>Open</th>\n",
       "      <th>High</th>\n",
       "      <th>Low</th>\n",
       "      <th>Close</th>\n",
       "      <th>Volume_(BTC)</th>\n",
       "      <th>Volume_(Currency)</th>\n",
       "      <th>Weighted_Price</th>\n",
       "    </tr>\n",
       "  </thead>\n",
       "  <tbody>\n",
       "    <tr>\n",
       "      <th>count</th>\n",
       "      <td>4.857377e+06</td>\n",
       "      <td>3.613769e+06</td>\n",
       "      <td>3.613769e+06</td>\n",
       "      <td>3.613769e+06</td>\n",
       "      <td>3.613769e+06</td>\n",
       "      <td>3.613769e+06</td>\n",
       "      <td>3.613769e+06</td>\n",
       "      <td>3.613769e+06</td>\n",
       "    </tr>\n",
       "    <tr>\n",
       "      <th>mean</th>\n",
       "      <td>1.471301e+09</td>\n",
       "      <td>6.009024e+03</td>\n",
       "      <td>6.013357e+03</td>\n",
       "      <td>6.004488e+03</td>\n",
       "      <td>6.009014e+03</td>\n",
       "      <td>9.323249e+00</td>\n",
       "      <td>4.176284e+04</td>\n",
       "      <td>6.008935e+03</td>\n",
       "    </tr>\n",
       "    <tr>\n",
       "      <th>std</th>\n",
       "      <td>8.428019e+07</td>\n",
       "      <td>8.996247e+03</td>\n",
       "      <td>9.003521e+03</td>\n",
       "      <td>8.988778e+03</td>\n",
       "      <td>8.996360e+03</td>\n",
       "      <td>3.054989e+01</td>\n",
       "      <td>1.518248e+05</td>\n",
       "      <td>8.995992e+03</td>\n",
       "    </tr>\n",
       "    <tr>\n",
       "      <th>min</th>\n",
       "      <td>1.325318e+09</td>\n",
       "      <td>3.800000e+00</td>\n",
       "      <td>3.800000e+00</td>\n",
       "      <td>1.500000e+00</td>\n",
       "      <td>1.500000e+00</td>\n",
       "      <td>0.000000e+00</td>\n",
       "      <td>0.000000e+00</td>\n",
       "      <td>3.800000e+00</td>\n",
       "    </tr>\n",
       "    <tr>\n",
       "      <th>25%</th>\n",
       "      <td>1.398179e+09</td>\n",
       "      <td>4.438600e+02</td>\n",
       "      <td>4.440000e+02</td>\n",
       "      <td>4.435200e+02</td>\n",
       "      <td>4.438600e+02</td>\n",
       "      <td>4.097759e-01</td>\n",
       "      <td>4.521422e+02</td>\n",
       "      <td>4.438306e+02</td>\n",
       "    </tr>\n",
       "    <tr>\n",
       "      <th>50%</th>\n",
       "      <td>1.471428e+09</td>\n",
       "      <td>3.596970e+03</td>\n",
       "      <td>3.598190e+03</td>\n",
       "      <td>3.595620e+03</td>\n",
       "      <td>3.597000e+03</td>\n",
       "      <td>1.979811e+00</td>\n",
       "      <td>3.810124e+03</td>\n",
       "      <td>3.596804e+03</td>\n",
       "    </tr>\n",
       "    <tr>\n",
       "      <th>75%</th>\n",
       "      <td>1.544288e+09</td>\n",
       "      <td>8.627270e+03</td>\n",
       "      <td>8.632980e+03</td>\n",
       "      <td>8.621090e+03</td>\n",
       "      <td>8.627160e+03</td>\n",
       "      <td>7.278216e+00</td>\n",
       "      <td>2.569821e+04</td>\n",
       "      <td>8.627637e+03</td>\n",
       "    </tr>\n",
       "    <tr>\n",
       "      <th>max</th>\n",
       "      <td>1.617149e+09</td>\n",
       "      <td>6.176356e+04</td>\n",
       "      <td>6.178183e+04</td>\n",
       "      <td>6.167355e+04</td>\n",
       "      <td>6.178180e+04</td>\n",
       "      <td>5.853852e+03</td>\n",
       "      <td>1.390067e+07</td>\n",
       "      <td>6.171621e+04</td>\n",
       "    </tr>\n",
       "  </tbody>\n",
       "</table>\n",
       "</div>"
      ],
      "text/plain": [
       "          Timestamp          Open          High           Low         Close  \\\n",
       "count  4.857377e+06  3.613769e+06  3.613769e+06  3.613769e+06  3.613769e+06   \n",
       "mean   1.471301e+09  6.009024e+03  6.013357e+03  6.004488e+03  6.009014e+03   \n",
       "std    8.428019e+07  8.996247e+03  9.003521e+03  8.988778e+03  8.996360e+03   \n",
       "min    1.325318e+09  3.800000e+00  3.800000e+00  1.500000e+00  1.500000e+00   \n",
       "25%    1.398179e+09  4.438600e+02  4.440000e+02  4.435200e+02  4.438600e+02   \n",
       "50%    1.471428e+09  3.596970e+03  3.598190e+03  3.595620e+03  3.597000e+03   \n",
       "75%    1.544288e+09  8.627270e+03  8.632980e+03  8.621090e+03  8.627160e+03   \n",
       "max    1.617149e+09  6.176356e+04  6.178183e+04  6.167355e+04  6.178180e+04   \n",
       "\n",
       "       Volume_(BTC)  Volume_(Currency)  Weighted_Price  \n",
       "count  3.613769e+06       3.613769e+06    3.613769e+06  \n",
       "mean   9.323249e+00       4.176284e+04    6.008935e+03  \n",
       "std    3.054989e+01       1.518248e+05    8.995992e+03  \n",
       "min    0.000000e+00       0.000000e+00    3.800000e+00  \n",
       "25%    4.097759e-01       4.521422e+02    4.438306e+02  \n",
       "50%    1.979811e+00       3.810124e+03    3.596804e+03  \n",
       "75%    7.278216e+00       2.569821e+04    8.627637e+03  \n",
       "max    5.853852e+03       1.390067e+07    6.171621e+04  "
      ]
     },
     "execution_count": 2,
     "metadata": {},
     "output_type": "execute_result"
    }
   ],
   "source": [
    "df.describe()"
   ]
  },
  {
   "cell_type": "code",
   "execution_count": 3,
   "id": "d1135d16-62bc-42d6-a24e-d9c51297c8b2",
   "metadata": {},
   "outputs": [
    {
     "data": {
      "text/plain": [
       "(4857377, 8)"
      ]
     },
     "execution_count": 3,
     "metadata": {},
     "output_type": "execute_result"
    }
   ],
   "source": [
    "df.shape"
   ]
  },
  {
   "cell_type": "code",
   "execution_count": 4,
   "id": "10b40b16-229e-467a-bde9-ed6c3c5e26f6",
   "metadata": {},
   "outputs": [
    {
     "data": {
      "text/plain": [
       "Timestamp                  0\n",
       "Open                 1243608\n",
       "High                 1243608\n",
       "Low                  1243608\n",
       "Close                1243608\n",
       "Volume_(BTC)         1243608\n",
       "Volume_(Currency)    1243608\n",
       "Weighted_Price       1243608\n",
       "dtype: int64"
      ]
     },
     "execution_count": 4,
     "metadata": {},
     "output_type": "execute_result"
    }
   ],
   "source": [
    "# If the NA rows are small in number, can safely drop\n",
    "df.isnull().sum()"
   ]
  },
  {
   "cell_type": "code",
   "execution_count": 5,
   "id": "f36503b2-c5c2-48ae-9a2d-1c3e149a11db",
   "metadata": {},
   "outputs": [
    {
     "data": {
      "text/plain": [
       "3596"
      ]
     },
     "execution_count": 5,
     "metadata": {},
     "output_type": "execute_result"
    }
   ],
   "source": [
    "import math\n",
    "median_scores = math.floor(df['Open'].median())\n",
    "median_scores"
   ]
  },
  {
   "cell_type": "code",
   "execution_count": 6,
   "id": "7658dce1-3a85-4a8f-87ee-9c07be73eba1",
   "metadata": {},
   "outputs": [
    {
     "data": {
      "text/plain": [
       "Timestamp                  0\n",
       "Open                       0\n",
       "High                 1243608\n",
       "Low                  1243608\n",
       "Close                1243608\n",
       "Volume_(BTC)         1243608\n",
       "Volume_(Currency)    1243608\n",
       "Weighted_Price       1243608\n",
       "dtype: int64"
      ]
     },
     "execution_count": 6,
     "metadata": {},
     "output_type": "execute_result"
    }
   ],
   "source": [
    "df['Open'] = df['Open'].fillna(median_scores)\n",
    "df.isnull().sum()"
   ]
  },
  {
   "cell_type": "code",
   "execution_count": 7,
   "id": "101ff2fe-445d-4746-b5c2-6e8d8e5b84fe",
   "metadata": {},
   "outputs": [
    {
     "data": {
      "text/plain": [
       "3598"
      ]
     },
     "execution_count": 7,
     "metadata": {},
     "output_type": "execute_result"
    }
   ],
   "source": [
    "median_scores = math.floor(df['High'].median())\n",
    "median_scores"
   ]
  },
  {
   "cell_type": "code",
   "execution_count": 8,
   "id": "92ddb63b-3da8-43f8-82a4-c9cbd86c008c",
   "metadata": {},
   "outputs": [
    {
     "data": {
      "text/plain": [
       "Timestamp                  0\n",
       "Open                       0\n",
       "High                       0\n",
       "Low                  1243608\n",
       "Close                1243608\n",
       "Volume_(BTC)         1243608\n",
       "Volume_(Currency)    1243608\n",
       "Weighted_Price       1243608\n",
       "dtype: int64"
      ]
     },
     "execution_count": 8,
     "metadata": {},
     "output_type": "execute_result"
    }
   ],
   "source": [
    "df['High'] = df['High'].fillna(median_scores)\n",
    "df.isnull().sum()"
   ]
  },
  {
   "cell_type": "code",
   "execution_count": 9,
   "id": "f978bc95-3faf-461f-92c0-e4343c23414a",
   "metadata": {},
   "outputs": [
    {
     "data": {
      "text/plain": [
       "3598"
      ]
     },
     "execution_count": 9,
     "metadata": {},
     "output_type": "execute_result"
    }
   ],
   "source": [
    "median_scores = math.floor(df['High'].median())\n",
    "median_scores"
   ]
  },
  {
   "cell_type": "code",
   "execution_count": 10,
   "id": "bedf56ba-92be-4155-94b4-931adc4177c0",
   "metadata": {},
   "outputs": [
    {
     "data": {
      "text/plain": [
       "Timestamp                  0\n",
       "Open                       0\n",
       "High                       0\n",
       "Low                        0\n",
       "Close                1243608\n",
       "Volume_(BTC)         1243608\n",
       "Volume_(Currency)    1243608\n",
       "Weighted_Price       1243608\n",
       "dtype: int64"
      ]
     },
     "execution_count": 10,
     "metadata": {},
     "output_type": "execute_result"
    }
   ],
   "source": [
    "df['Low'] = df['Low'].fillna(median_scores)\n",
    "df.isnull().sum()"
   ]
  },
  {
   "cell_type": "code",
   "execution_count": 11,
   "id": "63a08a58-e710-4749-bcc4-7093fd77e1c4",
   "metadata": {},
   "outputs": [
    {
     "data": {
      "text/plain": [
       "3597"
      ]
     },
     "execution_count": 11,
     "metadata": {},
     "output_type": "execute_result"
    }
   ],
   "source": [
    "median_scores = math.floor(df['Close'].median())\n",
    "median_scores"
   ]
  },
  {
   "cell_type": "code",
   "execution_count": 12,
   "id": "942f9c70-2919-4b81-a261-3b2e5344dbbf",
   "metadata": {},
   "outputs": [
    {
     "data": {
      "text/plain": [
       "Timestamp                  0\n",
       "Open                       0\n",
       "High                       0\n",
       "Low                        0\n",
       "Close                      0\n",
       "Volume_(BTC)         1243608\n",
       "Volume_(Currency)    1243608\n",
       "Weighted_Price       1243608\n",
       "dtype: int64"
      ]
     },
     "execution_count": 12,
     "metadata": {},
     "output_type": "execute_result"
    }
   ],
   "source": [
    "df['Close'] = df['Close'].fillna(median_scores)\n",
    "df.isnull().sum()"
   ]
  },
  {
   "cell_type": "code",
   "execution_count": 13,
   "id": "6a3416b1-63b7-469c-a62f-c64cae8a46de",
   "metadata": {},
   "outputs": [
    {
     "data": {
      "text/plain": [
       "1"
      ]
     },
     "execution_count": 13,
     "metadata": {},
     "output_type": "execute_result"
    }
   ],
   "source": [
    "median_scores = math.floor(df['Volume_(BTC)'].median())\n",
    "median_scores"
   ]
  },
  {
   "cell_type": "code",
   "execution_count": 14,
   "id": "5fd46f86-26ae-4e26-adb8-dc9919fb8b72",
   "metadata": {},
   "outputs": [
    {
     "data": {
      "text/plain": [
       "Timestamp                  0\n",
       "Open                       0\n",
       "High                       0\n",
       "Low                        0\n",
       "Close                      0\n",
       "Volume_(BTC)               0\n",
       "Volume_(Currency)    1243608\n",
       "Weighted_Price       1243608\n",
       "dtype: int64"
      ]
     },
     "execution_count": 14,
     "metadata": {},
     "output_type": "execute_result"
    }
   ],
   "source": [
    "df['Volume_(BTC)'] = df['Volume_(BTC)'].fillna(median_scores)\n",
    "df.isnull().sum()"
   ]
  },
  {
   "cell_type": "code",
   "execution_count": 15,
   "id": "6d0b0400-2bfa-4106-b62a-54279c2fde49",
   "metadata": {},
   "outputs": [
    {
     "data": {
      "text/plain": [
       "3810"
      ]
     },
     "execution_count": 15,
     "metadata": {},
     "output_type": "execute_result"
    }
   ],
   "source": [
    "median_scores = math.floor(df['Volume_(Currency)'].median())\n",
    "median_scores"
   ]
  },
  {
   "cell_type": "code",
   "execution_count": 16,
   "id": "d61482b8-42fc-4331-bca5-29d63ea0c642",
   "metadata": {},
   "outputs": [
    {
     "data": {
      "text/plain": [
       "Timestamp                  0\n",
       "Open                       0\n",
       "High                       0\n",
       "Low                        0\n",
       "Close                      0\n",
       "Volume_(BTC)               0\n",
       "Volume_(Currency)          0\n",
       "Weighted_Price       1243608\n",
       "dtype: int64"
      ]
     },
     "execution_count": 16,
     "metadata": {},
     "output_type": "execute_result"
    }
   ],
   "source": [
    "df['Volume_(Currency)'] = df['Volume_(Currency)'].fillna(median_scores)\n",
    "df.isnull().sum()"
   ]
  },
  {
   "cell_type": "code",
   "execution_count": 17,
   "id": "7439fd7d-f67c-4692-9169-5390559da827",
   "metadata": {},
   "outputs": [
    {
     "data": {
      "text/plain": [
       "3596"
      ]
     },
     "execution_count": 17,
     "metadata": {},
     "output_type": "execute_result"
    }
   ],
   "source": [
    "median_scores = math.floor(df['Weighted_Price'].median())\n",
    "median_scores"
   ]
  },
  {
   "cell_type": "code",
   "execution_count": 18,
   "id": "fedaa537-1ce7-400a-a4ce-5a46631a8572",
   "metadata": {},
   "outputs": [
    {
     "data": {
      "text/plain": [
       "Timestamp            0\n",
       "Open                 0\n",
       "High                 0\n",
       "Low                  0\n",
       "Close                0\n",
       "Volume_(BTC)         0\n",
       "Volume_(Currency)    0\n",
       "Weighted_Price       0\n",
       "dtype: int64"
      ]
     },
     "execution_count": 18,
     "metadata": {},
     "output_type": "execute_result"
    }
   ],
   "source": [
    "df['Weighted_Price'] = df['Weighted_Price'].fillna(median_scores)\n",
    "df.isnull().sum()"
   ]
  },
  {
   "cell_type": "code",
   "execution_count": 19,
   "id": "87308252-e1fe-4974-9d0f-66af688de67a",
   "metadata": {},
   "outputs": [
    {
     "data": {
      "text/html": [
       "<div>\n",
       "<style scoped>\n",
       "    .dataframe tbody tr th:only-of-type {\n",
       "        vertical-align: middle;\n",
       "    }\n",
       "\n",
       "    .dataframe tbody tr th {\n",
       "        vertical-align: top;\n",
       "    }\n",
       "\n",
       "    .dataframe thead th {\n",
       "        text-align: right;\n",
       "    }\n",
       "</style>\n",
       "<table border=\"1\" class=\"dataframe\">\n",
       "  <thead>\n",
       "    <tr style=\"text-align: right;\">\n",
       "      <th></th>\n",
       "      <th>Open</th>\n",
       "      <th>High</th>\n",
       "      <th>Low</th>\n",
       "      <th>Close</th>\n",
       "      <th>Volume_(BTC)</th>\n",
       "      <th>Volume_(Currency)</th>\n",
       "      <th>Weighted_Price</th>\n",
       "    </tr>\n",
       "  </thead>\n",
       "  <tbody>\n",
       "    <tr>\n",
       "      <th>0</th>\n",
       "      <td>4.39</td>\n",
       "      <td>4.39</td>\n",
       "      <td>4.39</td>\n",
       "      <td>4.39</td>\n",
       "      <td>0.455581</td>\n",
       "      <td>2.000000</td>\n",
       "      <td>4.390000</td>\n",
       "    </tr>\n",
       "    <tr>\n",
       "      <th>1</th>\n",
       "      <td>3596.00</td>\n",
       "      <td>3598.00</td>\n",
       "      <td>3598.00</td>\n",
       "      <td>3597.00</td>\n",
       "      <td>1.000000</td>\n",
       "      <td>3810.000000</td>\n",
       "      <td>3596.000000</td>\n",
       "    </tr>\n",
       "    <tr>\n",
       "      <th>2</th>\n",
       "      <td>3596.00</td>\n",
       "      <td>3598.00</td>\n",
       "      <td>3598.00</td>\n",
       "      <td>3597.00</td>\n",
       "      <td>1.000000</td>\n",
       "      <td>3810.000000</td>\n",
       "      <td>3596.000000</td>\n",
       "    </tr>\n",
       "    <tr>\n",
       "      <th>3</th>\n",
       "      <td>3596.00</td>\n",
       "      <td>3598.00</td>\n",
       "      <td>3598.00</td>\n",
       "      <td>3597.00</td>\n",
       "      <td>1.000000</td>\n",
       "      <td>3810.000000</td>\n",
       "      <td>3596.000000</td>\n",
       "    </tr>\n",
       "    <tr>\n",
       "      <th>4</th>\n",
       "      <td>3596.00</td>\n",
       "      <td>3598.00</td>\n",
       "      <td>3598.00</td>\n",
       "      <td>3597.00</td>\n",
       "      <td>1.000000</td>\n",
       "      <td>3810.000000</td>\n",
       "      <td>3596.000000</td>\n",
       "    </tr>\n",
       "    <tr>\n",
       "      <th>...</th>\n",
       "      <td>...</td>\n",
       "      <td>...</td>\n",
       "      <td>...</td>\n",
       "      <td>...</td>\n",
       "      <td>...</td>\n",
       "      <td>...</td>\n",
       "      <td>...</td>\n",
       "    </tr>\n",
       "    <tr>\n",
       "      <th>4857372</th>\n",
       "      <td>58714.31</td>\n",
       "      <td>58714.31</td>\n",
       "      <td>58686.00</td>\n",
       "      <td>58686.00</td>\n",
       "      <td>1.384487</td>\n",
       "      <td>81259.372187</td>\n",
       "      <td>58692.753339</td>\n",
       "    </tr>\n",
       "    <tr>\n",
       "      <th>4857373</th>\n",
       "      <td>58683.97</td>\n",
       "      <td>58693.43</td>\n",
       "      <td>58683.97</td>\n",
       "      <td>58685.81</td>\n",
       "      <td>7.294848</td>\n",
       "      <td>428158.146640</td>\n",
       "      <td>58693.226508</td>\n",
       "    </tr>\n",
       "    <tr>\n",
       "      <th>4857374</th>\n",
       "      <td>58693.43</td>\n",
       "      <td>58723.84</td>\n",
       "      <td>58693.43</td>\n",
       "      <td>58723.84</td>\n",
       "      <td>1.705682</td>\n",
       "      <td>100117.070370</td>\n",
       "      <td>58696.198496</td>\n",
       "    </tr>\n",
       "    <tr>\n",
       "      <th>4857375</th>\n",
       "      <td>58742.18</td>\n",
       "      <td>58770.38</td>\n",
       "      <td>58742.18</td>\n",
       "      <td>58760.59</td>\n",
       "      <td>0.720415</td>\n",
       "      <td>42332.958633</td>\n",
       "      <td>58761.866202</td>\n",
       "    </tr>\n",
       "    <tr>\n",
       "      <th>4857376</th>\n",
       "      <td>58767.75</td>\n",
       "      <td>58778.18</td>\n",
       "      <td>58755.97</td>\n",
       "      <td>58778.18</td>\n",
       "      <td>2.712831</td>\n",
       "      <td>159417.751000</td>\n",
       "      <td>58764.349363</td>\n",
       "    </tr>\n",
       "  </tbody>\n",
       "</table>\n",
       "<p>4857377 rows × 7 columns</p>\n",
       "</div>"
      ],
      "text/plain": [
       "             Open      High       Low     Close  Volume_(BTC)  \\\n",
       "0            4.39      4.39      4.39      4.39      0.455581   \n",
       "1         3596.00   3598.00   3598.00   3597.00      1.000000   \n",
       "2         3596.00   3598.00   3598.00   3597.00      1.000000   \n",
       "3         3596.00   3598.00   3598.00   3597.00      1.000000   \n",
       "4         3596.00   3598.00   3598.00   3597.00      1.000000   \n",
       "...           ...       ...       ...       ...           ...   \n",
       "4857372  58714.31  58714.31  58686.00  58686.00      1.384487   \n",
       "4857373  58683.97  58693.43  58683.97  58685.81      7.294848   \n",
       "4857374  58693.43  58723.84  58693.43  58723.84      1.705682   \n",
       "4857375  58742.18  58770.38  58742.18  58760.59      0.720415   \n",
       "4857376  58767.75  58778.18  58755.97  58778.18      2.712831   \n",
       "\n",
       "         Volume_(Currency)  Weighted_Price  \n",
       "0                 2.000000        4.390000  \n",
       "1              3810.000000     3596.000000  \n",
       "2              3810.000000     3596.000000  \n",
       "3              3810.000000     3596.000000  \n",
       "4              3810.000000     3596.000000  \n",
       "...                    ...             ...  \n",
       "4857372       81259.372187    58692.753339  \n",
       "4857373      428158.146640    58693.226508  \n",
       "4857374      100117.070370    58696.198496  \n",
       "4857375       42332.958633    58761.866202  \n",
       "4857376      159417.751000    58764.349363  \n",
       "\n",
       "[4857377 rows x 7 columns]"
      ]
     },
     "execution_count": 19,
     "metadata": {},
     "output_type": "execute_result"
    }
   ],
   "source": [
    "df2 = df.drop('Timestamp', axis = 'columns')\n",
    "df2"
   ]
  },
  {
   "cell_type": "code",
   "execution_count": 20,
   "id": "bc6efce3-8dcb-44a8-8228-ca5ad0baa2c5",
   "metadata": {},
   "outputs": [
    {
     "data": {
      "text/plain": [
       "count    4.857377e+06\n",
       "mean     5.391230e+03\n",
       "std      7.830763e+03\n",
       "min      3.800000e+00\n",
       "25%      6.304000e+02\n",
       "50%      3.596000e+03\n",
       "75%      7.195560e+03\n",
       "max      6.176356e+04\n",
       "Name: Open, dtype: float64"
      ]
     },
     "execution_count": 20,
     "metadata": {},
     "output_type": "execute_result"
    }
   ],
   "source": [
    "df2.Open.describe()"
   ]
  },
  {
   "cell_type": "code",
   "execution_count": 21,
   "id": "b516c7d4-b397-43f2-9a82-b0d4cfb964f2",
   "metadata": {},
   "outputs": [
    {
     "data": {
      "text/plain": [
       "(630.4, 7195.56)"
      ]
     },
     "execution_count": 21,
     "metadata": {},
     "output_type": "execute_result"
    }
   ],
   "source": [
    "Q1 = df2.Open.quantile(0.25)\n",
    "Q3 = df2.Open.quantile(0.75)\n",
    "Q1, Q3"
   ]
  },
  {
   "cell_type": "code",
   "execution_count": 22,
   "id": "cfc51aaa-1158-4f3a-9728-6ca228e2198c",
   "metadata": {},
   "outputs": [
    {
     "data": {
      "text/plain": [
       "6565.160000000001"
      ]
     },
     "execution_count": 22,
     "metadata": {},
     "output_type": "execute_result"
    }
   ],
   "source": [
    "IQR = Q3 - Q1\n",
    "IQR"
   ]
  },
  {
   "cell_type": "code",
   "execution_count": 23,
   "id": "d04e1a84-dddb-4e67-bbbc-97e72b71ec3d",
   "metadata": {},
   "outputs": [
    {
     "data": {
      "text/plain": [
       "(-9217.340000000002, 17043.300000000003)"
      ]
     },
     "execution_count": 23,
     "metadata": {},
     "output_type": "execute_result"
    }
   ],
   "source": [
    "#Upper and lower limits\n",
    "lower_limit = Q1 - 1.5*IQR\n",
    "upper_limit = Q3 + 1.5*IQR\n",
    "lower_limit, upper_limit"
   ]
  },
  {
   "cell_type": "code",
   "execution_count": 24,
   "id": "c720d423-9926-47f9-aa39-2b258c025344",
   "metadata": {},
   "outputs": [
    {
     "data": {
      "text/html": [
       "<div>\n",
       "<style scoped>\n",
       "    .dataframe tbody tr th:only-of-type {\n",
       "        vertical-align: middle;\n",
       "    }\n",
       "\n",
       "    .dataframe tbody tr th {\n",
       "        vertical-align: top;\n",
       "    }\n",
       "\n",
       "    .dataframe thead th {\n",
       "        text-align: right;\n",
       "    }\n",
       "</style>\n",
       "<table border=\"1\" class=\"dataframe\">\n",
       "  <thead>\n",
       "    <tr style=\"text-align: right;\">\n",
       "      <th></th>\n",
       "      <th>Open</th>\n",
       "      <th>High</th>\n",
       "      <th>Low</th>\n",
       "      <th>Close</th>\n",
       "      <th>Volume_(BTC)</th>\n",
       "      <th>Volume_(Currency)</th>\n",
       "      <th>Weighted_Price</th>\n",
       "    </tr>\n",
       "  </thead>\n",
       "  <tbody>\n",
       "    <tr>\n",
       "      <th>0</th>\n",
       "      <td>4.39</td>\n",
       "      <td>4.39</td>\n",
       "      <td>4.39</td>\n",
       "      <td>4.39</td>\n",
       "      <td>0.455581</td>\n",
       "      <td>2.0</td>\n",
       "      <td>4.39</td>\n",
       "    </tr>\n",
       "    <tr>\n",
       "      <th>1</th>\n",
       "      <td>3596.00</td>\n",
       "      <td>3598.00</td>\n",
       "      <td>3598.00</td>\n",
       "      <td>3597.00</td>\n",
       "      <td>1.000000</td>\n",
       "      <td>3810.0</td>\n",
       "      <td>3596.00</td>\n",
       "    </tr>\n",
       "    <tr>\n",
       "      <th>2</th>\n",
       "      <td>3596.00</td>\n",
       "      <td>3598.00</td>\n",
       "      <td>3598.00</td>\n",
       "      <td>3597.00</td>\n",
       "      <td>1.000000</td>\n",
       "      <td>3810.0</td>\n",
       "      <td>3596.00</td>\n",
       "    </tr>\n",
       "    <tr>\n",
       "      <th>3</th>\n",
       "      <td>3596.00</td>\n",
       "      <td>3598.00</td>\n",
       "      <td>3598.00</td>\n",
       "      <td>3597.00</td>\n",
       "      <td>1.000000</td>\n",
       "      <td>3810.0</td>\n",
       "      <td>3596.00</td>\n",
       "    </tr>\n",
       "    <tr>\n",
       "      <th>4</th>\n",
       "      <td>3596.00</td>\n",
       "      <td>3598.00</td>\n",
       "      <td>3598.00</td>\n",
       "      <td>3597.00</td>\n",
       "      <td>1.000000</td>\n",
       "      <td>3810.0</td>\n",
       "      <td>3596.00</td>\n",
       "    </tr>\n",
       "    <tr>\n",
       "      <th>...</th>\n",
       "      <td>...</td>\n",
       "      <td>...</td>\n",
       "      <td>...</td>\n",
       "      <td>...</td>\n",
       "      <td>...</td>\n",
       "      <td>...</td>\n",
       "      <td>...</td>\n",
       "    </tr>\n",
       "    <tr>\n",
       "      <th>4856245</th>\n",
       "      <td>3596.00</td>\n",
       "      <td>3598.00</td>\n",
       "      <td>3598.00</td>\n",
       "      <td>3597.00</td>\n",
       "      <td>1.000000</td>\n",
       "      <td>3810.0</td>\n",
       "      <td>3596.00</td>\n",
       "    </tr>\n",
       "    <tr>\n",
       "      <th>4856308</th>\n",
       "      <td>3596.00</td>\n",
       "      <td>3598.00</td>\n",
       "      <td>3598.00</td>\n",
       "      <td>3597.00</td>\n",
       "      <td>1.000000</td>\n",
       "      <td>3810.0</td>\n",
       "      <td>3596.00</td>\n",
       "    </tr>\n",
       "    <tr>\n",
       "      <th>4856376</th>\n",
       "      <td>3596.00</td>\n",
       "      <td>3598.00</td>\n",
       "      <td>3598.00</td>\n",
       "      <td>3597.00</td>\n",
       "      <td>1.000000</td>\n",
       "      <td>3810.0</td>\n",
       "      <td>3596.00</td>\n",
       "    </tr>\n",
       "    <tr>\n",
       "      <th>4857340</th>\n",
       "      <td>3596.00</td>\n",
       "      <td>3598.00</td>\n",
       "      <td>3598.00</td>\n",
       "      <td>3597.00</td>\n",
       "      <td>1.000000</td>\n",
       "      <td>3810.0</td>\n",
       "      <td>3596.00</td>\n",
       "    </tr>\n",
       "    <tr>\n",
       "      <th>4857368</th>\n",
       "      <td>3596.00</td>\n",
       "      <td>3598.00</td>\n",
       "      <td>3598.00</td>\n",
       "      <td>3597.00</td>\n",
       "      <td>1.000000</td>\n",
       "      <td>3810.0</td>\n",
       "      <td>3596.00</td>\n",
       "    </tr>\n",
       "  </tbody>\n",
       "</table>\n",
       "<p>4659078 rows × 7 columns</p>\n",
       "</div>"
      ],
      "text/plain": [
       "            Open     High      Low    Close  Volume_(BTC)  Volume_(Currency)  \\\n",
       "0           4.39     4.39     4.39     4.39      0.455581                2.0   \n",
       "1        3596.00  3598.00  3598.00  3597.00      1.000000             3810.0   \n",
       "2        3596.00  3598.00  3598.00  3597.00      1.000000             3810.0   \n",
       "3        3596.00  3598.00  3598.00  3597.00      1.000000             3810.0   \n",
       "4        3596.00  3598.00  3598.00  3597.00      1.000000             3810.0   \n",
       "...          ...      ...      ...      ...           ...                ...   \n",
       "4856245  3596.00  3598.00  3598.00  3597.00      1.000000             3810.0   \n",
       "4856308  3596.00  3598.00  3598.00  3597.00      1.000000             3810.0   \n",
       "4856376  3596.00  3598.00  3598.00  3597.00      1.000000             3810.0   \n",
       "4857340  3596.00  3598.00  3598.00  3597.00      1.000000             3810.0   \n",
       "4857368  3596.00  3598.00  3598.00  3597.00      1.000000             3810.0   \n",
       "\n",
       "         Weighted_Price  \n",
       "0                  4.39  \n",
       "1               3596.00  \n",
       "2               3596.00  \n",
       "3               3596.00  \n",
       "4               3596.00  \n",
       "...                 ...  \n",
       "4856245         3596.00  \n",
       "4856308         3596.00  \n",
       "4856376         3596.00  \n",
       "4857340         3596.00  \n",
       "4857368         3596.00  \n",
       "\n",
       "[4659078 rows x 7 columns]"
      ]
     },
     "execution_count": 24,
     "metadata": {},
     "output_type": "execute_result"
    }
   ],
   "source": [
    "df_no_outlier2 = df2[(df2.Open>lower_limit)&(df2.Open<upper_limit)]\n",
    "df_no_outlier2"
   ]
  },
  {
   "cell_type": "code",
   "execution_count": 25,
   "id": "0722612b-828f-4411-9576-c36de12f4522",
   "metadata": {},
   "outputs": [
    {
     "data": {
      "text/plain": [
       "(608.22, 6525.5075)"
      ]
     },
     "execution_count": 25,
     "metadata": {},
     "output_type": "execute_result"
    }
   ],
   "source": [
    "Q1 = df_no_outlier2.High.quantile(0.25)\n",
    "Q3 = df_no_outlier2.High.quantile(0.75)\n",
    "Q1, Q3"
   ]
  },
  {
   "cell_type": "code",
   "execution_count": 26,
   "id": "2d2661cd-1884-4f63-a9b9-1a96959f5c3c",
   "metadata": {},
   "outputs": [
    {
     "data": {
      "text/plain": [
       "5917.287499999999"
      ]
     },
     "execution_count": 26,
     "metadata": {},
     "output_type": "execute_result"
    }
   ],
   "source": [
    "IQR = Q3 - Q1\n",
    "IQR"
   ]
  },
  {
   "cell_type": "code",
   "execution_count": 27,
   "id": "5086b04b-5f54-4e97-81b5-00ca7b64d960",
   "metadata": {},
   "outputs": [
    {
     "data": {
      "text/plain": [
       "(-8267.71125, 15401.43875)"
      ]
     },
     "execution_count": 27,
     "metadata": {},
     "output_type": "execute_result"
    }
   ],
   "source": [
    "#Upper and lower limits\n",
    "lower_limit = Q1 - 1.5*IQR\n",
    "upper_limit = Q3 + 1.5*IQR\n",
    "lower_limit, upper_limit"
   ]
  },
  {
   "cell_type": "code",
   "execution_count": 28,
   "id": "f31bd0f5-44e9-4369-8290-a1b18081bf8e",
   "metadata": {},
   "outputs": [
    {
     "data": {
      "text/html": [
       "<div>\n",
       "<style scoped>\n",
       "    .dataframe tbody tr th:only-of-type {\n",
       "        vertical-align: middle;\n",
       "    }\n",
       "\n",
       "    .dataframe tbody tr th {\n",
       "        vertical-align: top;\n",
       "    }\n",
       "\n",
       "    .dataframe thead th {\n",
       "        text-align: right;\n",
       "    }\n",
       "</style>\n",
       "<table border=\"1\" class=\"dataframe\">\n",
       "  <thead>\n",
       "    <tr style=\"text-align: right;\">\n",
       "      <th></th>\n",
       "      <th>Open</th>\n",
       "      <th>High</th>\n",
       "      <th>Low</th>\n",
       "      <th>Close</th>\n",
       "      <th>Volume_(BTC)</th>\n",
       "      <th>Volume_(Currency)</th>\n",
       "      <th>Weighted_Price</th>\n",
       "    </tr>\n",
       "  </thead>\n",
       "  <tbody>\n",
       "    <tr>\n",
       "      <th>0</th>\n",
       "      <td>4.39</td>\n",
       "      <td>4.39</td>\n",
       "      <td>4.39</td>\n",
       "      <td>4.39</td>\n",
       "      <td>0.455581</td>\n",
       "      <td>2.0</td>\n",
       "      <td>4.39</td>\n",
       "    </tr>\n",
       "    <tr>\n",
       "      <th>1</th>\n",
       "      <td>3596.00</td>\n",
       "      <td>3598.00</td>\n",
       "      <td>3598.00</td>\n",
       "      <td>3597.00</td>\n",
       "      <td>1.000000</td>\n",
       "      <td>3810.0</td>\n",
       "      <td>3596.00</td>\n",
       "    </tr>\n",
       "    <tr>\n",
       "      <th>2</th>\n",
       "      <td>3596.00</td>\n",
       "      <td>3598.00</td>\n",
       "      <td>3598.00</td>\n",
       "      <td>3597.00</td>\n",
       "      <td>1.000000</td>\n",
       "      <td>3810.0</td>\n",
       "      <td>3596.00</td>\n",
       "    </tr>\n",
       "    <tr>\n",
       "      <th>3</th>\n",
       "      <td>3596.00</td>\n",
       "      <td>3598.00</td>\n",
       "      <td>3598.00</td>\n",
       "      <td>3597.00</td>\n",
       "      <td>1.000000</td>\n",
       "      <td>3810.0</td>\n",
       "      <td>3596.00</td>\n",
       "    </tr>\n",
       "    <tr>\n",
       "      <th>4</th>\n",
       "      <td>3596.00</td>\n",
       "      <td>3598.00</td>\n",
       "      <td>3598.00</td>\n",
       "      <td>3597.00</td>\n",
       "      <td>1.000000</td>\n",
       "      <td>3810.0</td>\n",
       "      <td>3596.00</td>\n",
       "    </tr>\n",
       "  </tbody>\n",
       "</table>\n",
       "</div>"
      ],
      "text/plain": [
       "      Open     High      Low    Close  Volume_(BTC)  Volume_(Currency)  \\\n",
       "0     4.39     4.39     4.39     4.39      0.455581                2.0   \n",
       "1  3596.00  3598.00  3598.00  3597.00      1.000000             3810.0   \n",
       "2  3596.00  3598.00  3598.00  3597.00      1.000000             3810.0   \n",
       "3  3596.00  3598.00  3598.00  3597.00      1.000000             3810.0   \n",
       "4  3596.00  3598.00  3598.00  3597.00      1.000000             3810.0   \n",
       "\n",
       "   Weighted_Price  \n",
       "0            4.39  \n",
       "1         3596.00  \n",
       "2         3596.00  \n",
       "3         3596.00  \n",
       "4         3596.00  "
      ]
     },
     "execution_count": 28,
     "metadata": {},
     "output_type": "execute_result"
    }
   ],
   "source": [
    "df_no_outlier3 = df_no_outlier2[(df_no_outlier2.High>lower_limit)&(df_no_outlier2.High<upper_limit)]\n",
    "df_no_outlier3.head()"
   ]
  },
  {
   "cell_type": "code",
   "execution_count": 29,
   "id": "f0cce729-0bd9-46dd-9209-a5cdd9ea2ad5",
   "metadata": {},
   "outputs": [
    {
     "data": {
      "text/plain": [
       "(605.63, 6451.67)"
      ]
     },
     "execution_count": 29,
     "metadata": {},
     "output_type": "execute_result"
    }
   ],
   "source": [
    "Q1 = df_no_outlier3.Low.quantile(0.25)\n",
    "Q3 = df_no_outlier3.Low.quantile(0.75)\n",
    "Q1, Q3"
   ]
  },
  {
   "cell_type": "code",
   "execution_count": 30,
   "id": "59b6716c-672b-4940-9ccd-2fafec867fde",
   "metadata": {},
   "outputs": [
    {
     "data": {
      "text/plain": [
       "5846.04"
      ]
     },
     "execution_count": 30,
     "metadata": {},
     "output_type": "execute_result"
    }
   ],
   "source": [
    "IQR = Q3 - Q1\n",
    "IQR"
   ]
  },
  {
   "cell_type": "code",
   "execution_count": 31,
   "id": "28a1ee35-2d82-4b60-ab84-b454274f5f59",
   "metadata": {},
   "outputs": [
    {
     "data": {
      "text/plain": [
       "(-8163.429999999999, 15220.73)"
      ]
     },
     "execution_count": 31,
     "metadata": {},
     "output_type": "execute_result"
    }
   ],
   "source": [
    "#Upper and lower limits\n",
    "lower_limit = Q1 - 1.5*IQR\n",
    "upper_limit = Q3 + 1.5*IQR\n",
    "lower_limit, upper_limit"
   ]
  },
  {
   "cell_type": "code",
   "execution_count": 32,
   "id": "84cdc23a-32b5-4407-8052-27bbf71aa45b",
   "metadata": {},
   "outputs": [
    {
     "data": {
      "text/html": [
       "<div>\n",
       "<style scoped>\n",
       "    .dataframe tbody tr th:only-of-type {\n",
       "        vertical-align: middle;\n",
       "    }\n",
       "\n",
       "    .dataframe tbody tr th {\n",
       "        vertical-align: top;\n",
       "    }\n",
       "\n",
       "    .dataframe thead th {\n",
       "        text-align: right;\n",
       "    }\n",
       "</style>\n",
       "<table border=\"1\" class=\"dataframe\">\n",
       "  <thead>\n",
       "    <tr style=\"text-align: right;\">\n",
       "      <th></th>\n",
       "      <th>Open</th>\n",
       "      <th>High</th>\n",
       "      <th>Low</th>\n",
       "      <th>Close</th>\n",
       "      <th>Volume_(BTC)</th>\n",
       "      <th>Volume_(Currency)</th>\n",
       "      <th>Weighted_Price</th>\n",
       "    </tr>\n",
       "  </thead>\n",
       "  <tbody>\n",
       "    <tr>\n",
       "      <th>0</th>\n",
       "      <td>4.39</td>\n",
       "      <td>4.39</td>\n",
       "      <td>4.39</td>\n",
       "      <td>4.39</td>\n",
       "      <td>0.455581</td>\n",
       "      <td>2.0</td>\n",
       "      <td>4.39</td>\n",
       "    </tr>\n",
       "    <tr>\n",
       "      <th>1</th>\n",
       "      <td>3596.00</td>\n",
       "      <td>3598.00</td>\n",
       "      <td>3598.00</td>\n",
       "      <td>3597.00</td>\n",
       "      <td>1.000000</td>\n",
       "      <td>3810.0</td>\n",
       "      <td>3596.00</td>\n",
       "    </tr>\n",
       "    <tr>\n",
       "      <th>2</th>\n",
       "      <td>3596.00</td>\n",
       "      <td>3598.00</td>\n",
       "      <td>3598.00</td>\n",
       "      <td>3597.00</td>\n",
       "      <td>1.000000</td>\n",
       "      <td>3810.0</td>\n",
       "      <td>3596.00</td>\n",
       "    </tr>\n",
       "    <tr>\n",
       "      <th>3</th>\n",
       "      <td>3596.00</td>\n",
       "      <td>3598.00</td>\n",
       "      <td>3598.00</td>\n",
       "      <td>3597.00</td>\n",
       "      <td>1.000000</td>\n",
       "      <td>3810.0</td>\n",
       "      <td>3596.00</td>\n",
       "    </tr>\n",
       "    <tr>\n",
       "      <th>4</th>\n",
       "      <td>3596.00</td>\n",
       "      <td>3598.00</td>\n",
       "      <td>3598.00</td>\n",
       "      <td>3597.00</td>\n",
       "      <td>1.000000</td>\n",
       "      <td>3810.0</td>\n",
       "      <td>3596.00</td>\n",
       "    </tr>\n",
       "  </tbody>\n",
       "</table>\n",
       "</div>"
      ],
      "text/plain": [
       "      Open     High      Low    Close  Volume_(BTC)  Volume_(Currency)  \\\n",
       "0     4.39     4.39     4.39     4.39      0.455581                2.0   \n",
       "1  3596.00  3598.00  3598.00  3597.00      1.000000             3810.0   \n",
       "2  3596.00  3598.00  3598.00  3597.00      1.000000             3810.0   \n",
       "3  3596.00  3598.00  3598.00  3597.00      1.000000             3810.0   \n",
       "4  3596.00  3598.00  3598.00  3597.00      1.000000             3810.0   \n",
       "\n",
       "   Weighted_Price  \n",
       "0            4.39  \n",
       "1         3596.00  \n",
       "2         3596.00  \n",
       "3         3596.00  \n",
       "4         3596.00  "
      ]
     },
     "execution_count": 32,
     "metadata": {},
     "output_type": "execute_result"
    }
   ],
   "source": [
    "df_no_outlier4 = df_no_outlier3[(df_no_outlier3.Low>lower_limit)&(df_no_outlier3.Low<upper_limit)]\n",
    "df_no_outlier4.head()"
   ]
  },
  {
   "cell_type": "code",
   "execution_count": 33,
   "id": "ffc258d2-2f3b-4eef-bc4d-dde6f4dd849a",
   "metadata": {},
   "outputs": [
    {
     "data": {
      "text/plain": [
       "(605.69, 6447.192499999999)"
      ]
     },
     "execution_count": 33,
     "metadata": {},
     "output_type": "execute_result"
    }
   ],
   "source": [
    "Q1 = df_no_outlier4.Close.quantile(0.25)\n",
    "Q3 = df_no_outlier4.Close.quantile(0.75)\n",
    "Q1, Q3"
   ]
  },
  {
   "cell_type": "code",
   "execution_count": 34,
   "id": "358990de-3857-4c02-bbbc-335619bc2c74",
   "metadata": {},
   "outputs": [
    {
     "data": {
      "text/plain": [
       "5841.502499999999"
      ]
     },
     "execution_count": 34,
     "metadata": {},
     "output_type": "execute_result"
    }
   ],
   "source": [
    "IQR = Q3 - Q1\n",
    "IQR"
   ]
  },
  {
   "cell_type": "code",
   "execution_count": 35,
   "id": "73760ec7-9931-4c93-9a4b-93a4d243a7a2",
   "metadata": {},
   "outputs": [
    {
     "data": {
      "text/plain": [
       "(-8156.5637499999975, 15209.446249999997)"
      ]
     },
     "execution_count": 35,
     "metadata": {},
     "output_type": "execute_result"
    }
   ],
   "source": [
    "#Upper and lower limits\n",
    "lower_limit = Q1 - 1.5*IQR\n",
    "upper_limit = Q3 + 1.5*IQR\n",
    "lower_limit, upper_limit"
   ]
  },
  {
   "cell_type": "code",
   "execution_count": 36,
   "id": "07a96919-7745-412d-aaab-c21d61bd9059",
   "metadata": {},
   "outputs": [
    {
     "data": {
      "text/html": [
       "<div>\n",
       "<style scoped>\n",
       "    .dataframe tbody tr th:only-of-type {\n",
       "        vertical-align: middle;\n",
       "    }\n",
       "\n",
       "    .dataframe tbody tr th {\n",
       "        vertical-align: top;\n",
       "    }\n",
       "\n",
       "    .dataframe thead th {\n",
       "        text-align: right;\n",
       "    }\n",
       "</style>\n",
       "<table border=\"1\" class=\"dataframe\">\n",
       "  <thead>\n",
       "    <tr style=\"text-align: right;\">\n",
       "      <th></th>\n",
       "      <th>Open</th>\n",
       "      <th>High</th>\n",
       "      <th>Low</th>\n",
       "      <th>Close</th>\n",
       "      <th>Volume_(BTC)</th>\n",
       "      <th>Volume_(Currency)</th>\n",
       "      <th>Weighted_Price</th>\n",
       "    </tr>\n",
       "  </thead>\n",
       "  <tbody>\n",
       "    <tr>\n",
       "      <th>0</th>\n",
       "      <td>4.39</td>\n",
       "      <td>4.39</td>\n",
       "      <td>4.39</td>\n",
       "      <td>4.39</td>\n",
       "      <td>0.455581</td>\n",
       "      <td>2.0</td>\n",
       "      <td>4.39</td>\n",
       "    </tr>\n",
       "    <tr>\n",
       "      <th>1</th>\n",
       "      <td>3596.00</td>\n",
       "      <td>3598.00</td>\n",
       "      <td>3598.00</td>\n",
       "      <td>3597.00</td>\n",
       "      <td>1.000000</td>\n",
       "      <td>3810.0</td>\n",
       "      <td>3596.00</td>\n",
       "    </tr>\n",
       "    <tr>\n",
       "      <th>2</th>\n",
       "      <td>3596.00</td>\n",
       "      <td>3598.00</td>\n",
       "      <td>3598.00</td>\n",
       "      <td>3597.00</td>\n",
       "      <td>1.000000</td>\n",
       "      <td>3810.0</td>\n",
       "      <td>3596.00</td>\n",
       "    </tr>\n",
       "    <tr>\n",
       "      <th>3</th>\n",
       "      <td>3596.00</td>\n",
       "      <td>3598.00</td>\n",
       "      <td>3598.00</td>\n",
       "      <td>3597.00</td>\n",
       "      <td>1.000000</td>\n",
       "      <td>3810.0</td>\n",
       "      <td>3596.00</td>\n",
       "    </tr>\n",
       "    <tr>\n",
       "      <th>4</th>\n",
       "      <td>3596.00</td>\n",
       "      <td>3598.00</td>\n",
       "      <td>3598.00</td>\n",
       "      <td>3597.00</td>\n",
       "      <td>1.000000</td>\n",
       "      <td>3810.0</td>\n",
       "      <td>3596.00</td>\n",
       "    </tr>\n",
       "  </tbody>\n",
       "</table>\n",
       "</div>"
      ],
      "text/plain": [
       "      Open     High      Low    Close  Volume_(BTC)  Volume_(Currency)  \\\n",
       "0     4.39     4.39     4.39     4.39      0.455581                2.0   \n",
       "1  3596.00  3598.00  3598.00  3597.00      1.000000             3810.0   \n",
       "2  3596.00  3598.00  3598.00  3597.00      1.000000             3810.0   \n",
       "3  3596.00  3598.00  3598.00  3597.00      1.000000             3810.0   \n",
       "4  3596.00  3598.00  3598.00  3597.00      1.000000             3810.0   \n",
       "\n",
       "   Weighted_Price  \n",
       "0            4.39  \n",
       "1         3596.00  \n",
       "2         3596.00  \n",
       "3         3596.00  \n",
       "4         3596.00  "
      ]
     },
     "execution_count": 36,
     "metadata": {},
     "output_type": "execute_result"
    }
   ],
   "source": [
    "df_no_outlier5 = df_no_outlier4[(df_no_outlier4.Close>lower_limit)&(df_no_outlier4.Close<upper_limit)]\n",
    "df_no_outlier5.head()"
   ]
  },
  {
   "cell_type": "code",
   "execution_count": 37,
   "id": "96971750-909f-4907-ba61-4a7bda2f1688",
   "metadata": {},
   "outputs": [
    {
     "data": {
      "text/plain": [
       "(0.745476685, 4.3711694025000005)"
      ]
     },
     "execution_count": 37,
     "metadata": {},
     "output_type": "execute_result"
    }
   ],
   "source": [
    "Q1 = df_no_outlier5['Volume_(BTC)'].quantile(0.25)\n",
    "Q3 = df_no_outlier5['Volume_(BTC)'].quantile(0.75)\n",
    "Q1, Q3"
   ]
  },
  {
   "cell_type": "code",
   "execution_count": 38,
   "id": "4d375d4a-7685-42ad-bcab-b7fc9f893938",
   "metadata": {},
   "outputs": [
    {
     "data": {
      "text/plain": [
       "3.6256927175000007"
      ]
     },
     "execution_count": 38,
     "metadata": {},
     "output_type": "execute_result"
    }
   ],
   "source": [
    "IQR = Q3 - Q1\n",
    "IQR"
   ]
  },
  {
   "cell_type": "code",
   "execution_count": 39,
   "id": "9e8a6cae-29fb-4e29-90e5-8df55dff0084",
   "metadata": {},
   "outputs": [
    {
     "data": {
      "text/plain": [
       "(-4.693062391250001, 9.80970847875)"
      ]
     },
     "execution_count": 39,
     "metadata": {},
     "output_type": "execute_result"
    }
   ],
   "source": [
    "lower_limit = Q1 - 1.5*IQR\n",
    "upper_limit = Q3 + 1.5*IQR\n",
    "lower_limit, upper_limit"
   ]
  },
  {
   "cell_type": "code",
   "execution_count": 40,
   "id": "c909f7e6-3291-49f6-a19e-3a38a3c438af",
   "metadata": {},
   "outputs": [
    {
     "data": {
      "text/html": [
       "<div>\n",
       "<style scoped>\n",
       "    .dataframe tbody tr th:only-of-type {\n",
       "        vertical-align: middle;\n",
       "    }\n",
       "\n",
       "    .dataframe tbody tr th {\n",
       "        vertical-align: top;\n",
       "    }\n",
       "\n",
       "    .dataframe thead th {\n",
       "        text-align: right;\n",
       "    }\n",
       "</style>\n",
       "<table border=\"1\" class=\"dataframe\">\n",
       "  <thead>\n",
       "    <tr style=\"text-align: right;\">\n",
       "      <th></th>\n",
       "      <th>Open</th>\n",
       "      <th>High</th>\n",
       "      <th>Low</th>\n",
       "      <th>Close</th>\n",
       "      <th>Volume_(BTC)</th>\n",
       "      <th>Volume_(Currency)</th>\n",
       "      <th>Weighted_Price</th>\n",
       "    </tr>\n",
       "  </thead>\n",
       "  <tbody>\n",
       "    <tr>\n",
       "      <th>0</th>\n",
       "      <td>4.39</td>\n",
       "      <td>4.39</td>\n",
       "      <td>4.39</td>\n",
       "      <td>4.39</td>\n",
       "      <td>0.455581</td>\n",
       "      <td>2.000000</td>\n",
       "      <td>4.390000</td>\n",
       "    </tr>\n",
       "    <tr>\n",
       "      <th>478</th>\n",
       "      <td>4.39</td>\n",
       "      <td>4.39</td>\n",
       "      <td>4.39</td>\n",
       "      <td>4.39</td>\n",
       "      <td>48.000000</td>\n",
       "      <td>210.720000</td>\n",
       "      <td>4.390000</td>\n",
       "    </tr>\n",
       "    <tr>\n",
       "      <th>547</th>\n",
       "      <td>4.50</td>\n",
       "      <td>4.57</td>\n",
       "      <td>4.50</td>\n",
       "      <td>4.57</td>\n",
       "      <td>37.862297</td>\n",
       "      <td>171.380338</td>\n",
       "      <td>4.526411</td>\n",
       "    </tr>\n",
       "    <tr>\n",
       "      <th>548</th>\n",
       "      <td>4.58</td>\n",
       "      <td>4.58</td>\n",
       "      <td>4.58</td>\n",
       "      <td>4.58</td>\n",
       "      <td>9.000000</td>\n",
       "      <td>41.220000</td>\n",
       "      <td>4.580000</td>\n",
       "    </tr>\n",
       "    <tr>\n",
       "      <th>1224</th>\n",
       "      <td>4.58</td>\n",
       "      <td>4.58</td>\n",
       "      <td>4.58</td>\n",
       "      <td>4.58</td>\n",
       "      <td>1.502000</td>\n",
       "      <td>6.879160</td>\n",
       "      <td>4.580000</td>\n",
       "    </tr>\n",
       "  </tbody>\n",
       "</table>\n",
       "</div>"
      ],
      "text/plain": [
       "      Open  High   Low  Close  Volume_(BTC)  Volume_(Currency)  Weighted_Price\n",
       "0     4.39  4.39  4.39   4.39      0.455581           2.000000        4.390000\n",
       "478   4.39  4.39  4.39   4.39     48.000000         210.720000        4.390000\n",
       "547   4.50  4.57  4.50   4.57     37.862297         171.380338        4.526411\n",
       "548   4.58  4.58  4.58   4.58      9.000000          41.220000        4.580000\n",
       "1224  4.58  4.58  4.58   4.58      1.502000           6.879160        4.580000"
      ]
     },
     "execution_count": 40,
     "metadata": {},
     "output_type": "execute_result"
    }
   ],
   "source": [
    "df_no_outlier6 = df_no_outlier5[(df_no_outlier5['Close'] > lower_limit) & (df_no_outlier5['Close'] < upper_limit)]\n",
    "df_no_outlier6.head()"
   ]
  },
  {
   "cell_type": "code",
   "execution_count": 41,
   "id": "b8c8b9f1-7a39-4b76-902f-343a108c1627",
   "metadata": {},
   "outputs": [
    {
     "data": {
      "text/plain": [
       "(12.402499994, 130.11609997)"
      ]
     },
     "execution_count": 41,
     "metadata": {},
     "output_type": "execute_result"
    }
   ],
   "source": [
    "Q1 = df_no_outlier6['Volume_(Currency)'].quantile(0.25)\n",
    "Q3 = df_no_outlier6['Volume_(Currency)'].quantile(0.75)\n",
    "Q1, Q3"
   ]
  },
  {
   "cell_type": "code",
   "execution_count": 42,
   "id": "dd2e1490-dfa4-4a5b-a454-7a0b02b84823",
   "metadata": {},
   "outputs": [
    {
     "data": {
      "text/plain": [
       "117.713599976"
      ]
     },
     "execution_count": 42,
     "metadata": {},
     "output_type": "execute_result"
    }
   ],
   "source": [
    "IQR = Q3 - Q1\n",
    "IQR"
   ]
  },
  {
   "cell_type": "code",
   "execution_count": 43,
   "id": "00460432-45e0-41db-9635-5cf3ae3f6b75",
   "metadata": {},
   "outputs": [
    {
     "data": {
      "text/plain": [
       "(-164.16789996999998, 306.686499934)"
      ]
     },
     "execution_count": 43,
     "metadata": {},
     "output_type": "execute_result"
    }
   ],
   "source": [
    "lower_limit = Q1 - 1.5*IQR\n",
    "upper_limit = Q3 + 1.5*IQR\n",
    "lower_limit, upper_limit"
   ]
  },
  {
   "cell_type": "code",
   "execution_count": 44,
   "id": "3bf31555-f13d-47d7-a370-259254da57c8",
   "metadata": {},
   "outputs": [
    {
     "data": {
      "text/html": [
       "<div>\n",
       "<style scoped>\n",
       "    .dataframe tbody tr th:only-of-type {\n",
       "        vertical-align: middle;\n",
       "    }\n",
       "\n",
       "    .dataframe tbody tr th {\n",
       "        vertical-align: top;\n",
       "    }\n",
       "\n",
       "    .dataframe thead th {\n",
       "        text-align: right;\n",
       "    }\n",
       "</style>\n",
       "<table border=\"1\" class=\"dataframe\">\n",
       "  <thead>\n",
       "    <tr style=\"text-align: right;\">\n",
       "      <th></th>\n",
       "      <th>Open</th>\n",
       "      <th>High</th>\n",
       "      <th>Low</th>\n",
       "      <th>Close</th>\n",
       "      <th>Volume_(BTC)</th>\n",
       "      <th>Volume_(Currency)</th>\n",
       "      <th>Weighted_Price</th>\n",
       "    </tr>\n",
       "  </thead>\n",
       "  <tbody>\n",
       "    <tr>\n",
       "      <th>0</th>\n",
       "      <td>4.39</td>\n",
       "      <td>4.39</td>\n",
       "      <td>4.39</td>\n",
       "      <td>4.39</td>\n",
       "      <td>0.455581</td>\n",
       "      <td>2.000000</td>\n",
       "      <td>4.390000</td>\n",
       "    </tr>\n",
       "    <tr>\n",
       "      <th>478</th>\n",
       "      <td>4.39</td>\n",
       "      <td>4.39</td>\n",
       "      <td>4.39</td>\n",
       "      <td>4.39</td>\n",
       "      <td>48.000000</td>\n",
       "      <td>210.720000</td>\n",
       "      <td>4.390000</td>\n",
       "    </tr>\n",
       "    <tr>\n",
       "      <th>547</th>\n",
       "      <td>4.50</td>\n",
       "      <td>4.57</td>\n",
       "      <td>4.50</td>\n",
       "      <td>4.57</td>\n",
       "      <td>37.862297</td>\n",
       "      <td>171.380338</td>\n",
       "      <td>4.526411</td>\n",
       "    </tr>\n",
       "    <tr>\n",
       "      <th>548</th>\n",
       "      <td>4.58</td>\n",
       "      <td>4.58</td>\n",
       "      <td>4.58</td>\n",
       "      <td>4.58</td>\n",
       "      <td>9.000000</td>\n",
       "      <td>41.220000</td>\n",
       "      <td>4.580000</td>\n",
       "    </tr>\n",
       "    <tr>\n",
       "      <th>1224</th>\n",
       "      <td>4.58</td>\n",
       "      <td>4.58</td>\n",
       "      <td>4.58</td>\n",
       "      <td>4.58</td>\n",
       "      <td>1.502000</td>\n",
       "      <td>6.879160</td>\n",
       "      <td>4.580000</td>\n",
       "    </tr>\n",
       "  </tbody>\n",
       "</table>\n",
       "</div>"
      ],
      "text/plain": [
       "      Open  High   Low  Close  Volume_(BTC)  Volume_(Currency)  Weighted_Price\n",
       "0     4.39  4.39  4.39   4.39      0.455581           2.000000        4.390000\n",
       "478   4.39  4.39  4.39   4.39     48.000000         210.720000        4.390000\n",
       "547   4.50  4.57  4.50   4.57     37.862297         171.380338        4.526411\n",
       "548   4.58  4.58  4.58   4.58      9.000000          41.220000        4.580000\n",
       "1224  4.58  4.58  4.58   4.58      1.502000           6.879160        4.580000"
      ]
     },
     "execution_count": 44,
     "metadata": {},
     "output_type": "execute_result"
    }
   ],
   "source": [
    "df_no_outlier7 = df_no_outlier6[(df_no_outlier6['Volume_(Currency)'] > lower_limit) & (df_no_outlier6['Volume_(Currency)'] < upper_limit)]\n",
    "df_no_outlier7.head()"
   ]
  },
  {
   "cell_type": "code",
   "execution_count": 45,
   "id": "9d44cb4b-9b6f-46d9-9516-73de0a69ec75",
   "metadata": {},
   "outputs": [
    {
     "data": {
      "text/plain": [
       "(5.09, 7.44)"
      ]
     },
     "execution_count": 45,
     "metadata": {},
     "output_type": "execute_result"
    }
   ],
   "source": [
    "Q1 = df_no_outlier7['Weighted_Price'].quantile(0.25)\n",
    "Q3 = df_no_outlier7['Weighted_Price'].quantile(0.75)\n",
    "Q1, Q3"
   ]
  },
  {
   "cell_type": "code",
   "execution_count": 46,
   "id": "0f8a09c7-d3a6-43c7-a370-c11e0234c6ca",
   "metadata": {},
   "outputs": [
    {
     "data": {
      "text/plain": [
       "2.3500000000000005"
      ]
     },
     "execution_count": 46,
     "metadata": {},
     "output_type": "execute_result"
    }
   ],
   "source": [
    "IQR = Q3 - Q1\n",
    "IQR"
   ]
  },
  {
   "cell_type": "code",
   "execution_count": 47,
   "id": "d27c1a71-7194-42f6-8507-d617067e8d7e",
   "metadata": {},
   "outputs": [
    {
     "data": {
      "text/plain": [
       "(1.564999999999999, 10.965000000000002)"
      ]
     },
     "execution_count": 47,
     "metadata": {},
     "output_type": "execute_result"
    }
   ],
   "source": [
    "lower_limit = Q1 - 1.5*IQR\n",
    "upper_limit = Q3 + 1.5*IQR\n",
    "lower_limit, upper_limit"
   ]
  },
  {
   "cell_type": "code",
   "execution_count": 48,
   "id": "0ff3b24f-78be-41b8-bb03-416f2af8cf1b",
   "metadata": {},
   "outputs": [
    {
     "data": {
      "text/html": [
       "<div>\n",
       "<style scoped>\n",
       "    .dataframe tbody tr th:only-of-type {\n",
       "        vertical-align: middle;\n",
       "    }\n",
       "\n",
       "    .dataframe tbody tr th {\n",
       "        vertical-align: top;\n",
       "    }\n",
       "\n",
       "    .dataframe thead th {\n",
       "        text-align: right;\n",
       "    }\n",
       "</style>\n",
       "<table border=\"1\" class=\"dataframe\">\n",
       "  <thead>\n",
       "    <tr style=\"text-align: right;\">\n",
       "      <th></th>\n",
       "      <th>Open</th>\n",
       "      <th>High</th>\n",
       "      <th>Low</th>\n",
       "      <th>Close</th>\n",
       "      <th>Volume_(BTC)</th>\n",
       "      <th>Volume_(Currency)</th>\n",
       "      <th>Weighted_Price</th>\n",
       "    </tr>\n",
       "  </thead>\n",
       "  <tbody>\n",
       "    <tr>\n",
       "      <th>0</th>\n",
       "      <td>4.39</td>\n",
       "      <td>4.39</td>\n",
       "      <td>4.39</td>\n",
       "      <td>4.39</td>\n",
       "      <td>0.455581</td>\n",
       "      <td>2.000000</td>\n",
       "      <td>4.390000</td>\n",
       "    </tr>\n",
       "    <tr>\n",
       "      <th>478</th>\n",
       "      <td>4.39</td>\n",
       "      <td>4.39</td>\n",
       "      <td>4.39</td>\n",
       "      <td>4.39</td>\n",
       "      <td>48.000000</td>\n",
       "      <td>210.720000</td>\n",
       "      <td>4.390000</td>\n",
       "    </tr>\n",
       "    <tr>\n",
       "      <th>547</th>\n",
       "      <td>4.50</td>\n",
       "      <td>4.57</td>\n",
       "      <td>4.50</td>\n",
       "      <td>4.57</td>\n",
       "      <td>37.862297</td>\n",
       "      <td>171.380338</td>\n",
       "      <td>4.526411</td>\n",
       "    </tr>\n",
       "    <tr>\n",
       "      <th>548</th>\n",
       "      <td>4.58</td>\n",
       "      <td>4.58</td>\n",
       "      <td>4.58</td>\n",
       "      <td>4.58</td>\n",
       "      <td>9.000000</td>\n",
       "      <td>41.220000</td>\n",
       "      <td>4.580000</td>\n",
       "    </tr>\n",
       "    <tr>\n",
       "      <th>1224</th>\n",
       "      <td>4.58</td>\n",
       "      <td>4.58</td>\n",
       "      <td>4.58</td>\n",
       "      <td>4.58</td>\n",
       "      <td>1.502000</td>\n",
       "      <td>6.879160</td>\n",
       "      <td>4.580000</td>\n",
       "    </tr>\n",
       "  </tbody>\n",
       "</table>\n",
       "</div>"
      ],
      "text/plain": [
       "      Open  High   Low  Close  Volume_(BTC)  Volume_(Currency)  Weighted_Price\n",
       "0     4.39  4.39  4.39   4.39      0.455581           2.000000        4.390000\n",
       "478   4.39  4.39  4.39   4.39     48.000000         210.720000        4.390000\n",
       "547   4.50  4.57  4.50   4.57     37.862297         171.380338        4.526411\n",
       "548   4.58  4.58  4.58   4.58      9.000000          41.220000        4.580000\n",
       "1224  4.58  4.58  4.58   4.58      1.502000           6.879160        4.580000"
      ]
     },
     "execution_count": 48,
     "metadata": {},
     "output_type": "execute_result"
    }
   ],
   "source": [
    "df_no_outlier8 = df_no_outlier7[(df_no_outlier7['Weighted_Price'] > lower_limit) & (df_no_outlier7['Weighted_Price'] < upper_limit)]\n",
    "df_no_outlier8.head()"
   ]
  },
  {
   "cell_type": "code",
   "execution_count": 49,
   "id": "0cddb14a-64ca-4951-a669-40ddd6b677ed",
   "metadata": {},
   "outputs": [
    {
     "data": {
      "text/html": [
       "<div>\n",
       "<style scoped>\n",
       "    .dataframe tbody tr th:only-of-type {\n",
       "        vertical-align: middle;\n",
       "    }\n",
       "\n",
       "    .dataframe tbody tr th {\n",
       "        vertical-align: top;\n",
       "    }\n",
       "\n",
       "    .dataframe thead th {\n",
       "        text-align: right;\n",
       "    }\n",
       "</style>\n",
       "<table border=\"1\" class=\"dataframe\">\n",
       "  <thead>\n",
       "    <tr style=\"text-align: right;\">\n",
       "      <th></th>\n",
       "      <th>Open</th>\n",
       "      <th>High</th>\n",
       "      <th>Low</th>\n",
       "      <th>Close</th>\n",
       "      <th>Volume_(BTC)</th>\n",
       "      <th>Volume_(Currency)</th>\n",
       "    </tr>\n",
       "  </thead>\n",
       "  <tbody>\n",
       "    <tr>\n",
       "      <th>0</th>\n",
       "      <td>4.39</td>\n",
       "      <td>4.39</td>\n",
       "      <td>4.39</td>\n",
       "      <td>4.39</td>\n",
       "      <td>0.455581</td>\n",
       "      <td>2.000000</td>\n",
       "    </tr>\n",
       "    <tr>\n",
       "      <th>478</th>\n",
       "      <td>4.39</td>\n",
       "      <td>4.39</td>\n",
       "      <td>4.39</td>\n",
       "      <td>4.39</td>\n",
       "      <td>48.000000</td>\n",
       "      <td>210.720000</td>\n",
       "    </tr>\n",
       "    <tr>\n",
       "      <th>547</th>\n",
       "      <td>4.50</td>\n",
       "      <td>4.57</td>\n",
       "      <td>4.50</td>\n",
       "      <td>4.57</td>\n",
       "      <td>37.862297</td>\n",
       "      <td>171.380338</td>\n",
       "    </tr>\n",
       "    <tr>\n",
       "      <th>548</th>\n",
       "      <td>4.58</td>\n",
       "      <td>4.58</td>\n",
       "      <td>4.58</td>\n",
       "      <td>4.58</td>\n",
       "      <td>9.000000</td>\n",
       "      <td>41.220000</td>\n",
       "    </tr>\n",
       "    <tr>\n",
       "      <th>1224</th>\n",
       "      <td>4.58</td>\n",
       "      <td>4.58</td>\n",
       "      <td>4.58</td>\n",
       "      <td>4.58</td>\n",
       "      <td>1.502000</td>\n",
       "      <td>6.879160</td>\n",
       "    </tr>\n",
       "    <tr>\n",
       "      <th>...</th>\n",
       "      <td>...</td>\n",
       "      <td>...</td>\n",
       "      <td>...</td>\n",
       "      <td>...</td>\n",
       "      <td>...</td>\n",
       "      <td>...</td>\n",
       "    </tr>\n",
       "    <tr>\n",
       "      <th>433384</th>\n",
       "      <td>9.50</td>\n",
       "      <td>9.50</td>\n",
       "      <td>9.50</td>\n",
       "      <td>9.50</td>\n",
       "      <td>1.000000</td>\n",
       "      <td>9.500000</td>\n",
       "    </tr>\n",
       "    <tr>\n",
       "      <th>433477</th>\n",
       "      <td>9.50</td>\n",
       "      <td>9.50</td>\n",
       "      <td>9.50</td>\n",
       "      <td>9.50</td>\n",
       "      <td>3.000000</td>\n",
       "      <td>28.500000</td>\n",
       "    </tr>\n",
       "    <tr>\n",
       "      <th>433478</th>\n",
       "      <td>9.50</td>\n",
       "      <td>9.50</td>\n",
       "      <td>9.50</td>\n",
       "      <td>9.50</td>\n",
       "      <td>29.274740</td>\n",
       "      <td>278.110030</td>\n",
       "    </tr>\n",
       "    <tr>\n",
       "      <th>433482</th>\n",
       "      <td>9.50</td>\n",
       "      <td>9.50</td>\n",
       "      <td>9.50</td>\n",
       "      <td>9.50</td>\n",
       "      <td>25.000000</td>\n",
       "      <td>237.500000</td>\n",
       "    </tr>\n",
       "    <tr>\n",
       "      <th>433485</th>\n",
       "      <td>9.50</td>\n",
       "      <td>9.50</td>\n",
       "      <td>9.50</td>\n",
       "      <td>9.50</td>\n",
       "      <td>0.725260</td>\n",
       "      <td>6.889970</td>\n",
       "    </tr>\n",
       "  </tbody>\n",
       "</table>\n",
       "<p>7516 rows × 6 columns</p>\n",
       "</div>"
      ],
      "text/plain": [
       "        Open  High   Low  Close  Volume_(BTC)  Volume_(Currency)\n",
       "0       4.39  4.39  4.39   4.39      0.455581           2.000000\n",
       "478     4.39  4.39  4.39   4.39     48.000000         210.720000\n",
       "547     4.50  4.57  4.50   4.57     37.862297         171.380338\n",
       "548     4.58  4.58  4.58   4.58      9.000000          41.220000\n",
       "1224    4.58  4.58  4.58   4.58      1.502000           6.879160\n",
       "...      ...   ...   ...    ...           ...                ...\n",
       "433384  9.50  9.50  9.50   9.50      1.000000           9.500000\n",
       "433477  9.50  9.50  9.50   9.50      3.000000          28.500000\n",
       "433478  9.50  9.50  9.50   9.50     29.274740         278.110030\n",
       "433482  9.50  9.50  9.50   9.50     25.000000         237.500000\n",
       "433485  9.50  9.50  9.50   9.50      0.725260           6.889970\n",
       "\n",
       "[7516 rows x 6 columns]"
      ]
     },
     "execution_count": 49,
     "metadata": {},
     "output_type": "execute_result"
    }
   ],
   "source": [
    "X = df_no_outlier8.drop(['Weighted_Price'], axis = 'columns')\n",
    "X"
   ]
  },
  {
   "cell_type": "code",
   "execution_count": 50,
   "id": "41debfe3-bf79-4caf-990d-6f108f5ff20e",
   "metadata": {},
   "outputs": [
    {
     "data": {
      "text/plain": [
       "0         4.390000\n",
       "478       4.390000\n",
       "547       4.526411\n",
       "548       4.580000\n",
       "1224      4.580000\n",
       "            ...   \n",
       "433384    9.500000\n",
       "433477    9.500000\n",
       "433478    9.500000\n",
       "433482    9.500000\n",
       "433485    9.500000\n",
       "Name: Weighted_Price, Length: 7516, dtype: float64"
      ]
     },
     "execution_count": 50,
     "metadata": {},
     "output_type": "execute_result"
    }
   ],
   "source": [
    "y = df_no_outlier8.Weighted_Price\n",
    "y"
   ]
  },
  {
   "cell_type": "code",
   "execution_count": 51,
   "id": "98f23336-a766-4af3-a928-d446980eb15e",
   "metadata": {},
   "outputs": [],
   "source": [
    "from sklearn.model_selection import train_test_split\n",
    "X_train, X_test, y_train, y_test = train_test_split(X,y,test_size=0.2,random_state=10)"
   ]
  },
  {
   "cell_type": "code",
   "execution_count": 52,
   "id": "db777a22-d938-4910-8afa-d8a63313a8d4",
   "metadata": {},
   "outputs": [
    {
     "data": {
      "text/plain": [
       "0.999995239700225"
      ]
     },
     "execution_count": 52,
     "metadata": {},
     "output_type": "execute_result"
    }
   ],
   "source": [
    "from sklearn.linear_model import LinearRegression\n",
    "lr_clf = LinearRegression()\n",
    "lr_clf.fit(X_train,y_train)\n",
    "lr_clf.score(X_test,y_test)"
   ]
  },
  {
   "cell_type": "code",
   "execution_count": 53,
   "id": "3ecd644a-56a5-425b-8680-763596996ff0",
   "metadata": {},
   "outputs": [],
   "source": [
    "# K Fold cross validation\n",
    "from sklearn.linear_model import LogisticRegression\n",
    "from sklearn.model_selection import ShuffleSplit  #Randomize samples, each fold has equal distribution of samples\n",
    "from sklearn.model_selection import cross_val_score\n",
    "\n",
    "cv = ShuffleSplit(n_splits=5, test_size=0.2, random_state=0)\n",
    "\n",
    "cross_val_score(LinearRegression(), X, y, cv=cv)\n",
    "\n",
    "cv = ShuffleSplit(n_splits=5, test_size=0.2, random_state=0)"
   ]
  },
  {
   "cell_type": "code",
   "execution_count": 54,
   "id": "1d5b11fa-dc51-43e2-b5d9-4d693fbcd367",
   "metadata": {},
   "outputs": [
    {
     "name": "stdout",
     "output_type": "stream",
     "text": [
      "               model  best_score  \\\n",
      "0  linear_regression    0.999980   \n",
      "1              lasso    0.775709   \n",
      "2      decision_tree    0.999933   \n",
      "\n",
      "                                         best_params  \n",
      "0                                                 {}  \n",
      "1                {'alpha': 1, 'selection': 'random'}  \n",
      "2  {'criterion': 'friedman_mse', 'splitter': 'ran...  \n"
     ]
    },
    {
     "name": "stderr",
     "output_type": "stream",
     "text": [
      "/Users/imraanarbab/miniconda3/envs/sklearn-env/lib/python3.11/site-packages/sklearn/model_selection/_validation.py:378: FitFailedWarning: \n",
      "10 fits failed out of a total of 20.\n",
      "The score on these train-test partitions for these parameters will be set to nan.\n",
      "If these failures are not expected, you can try to debug them by setting error_score='raise'.\n",
      "\n",
      "Below are more details about the failures:\n",
      "--------------------------------------------------------------------------------\n",
      "10 fits failed with the following error:\n",
      "Traceback (most recent call last):\n",
      "  File \"/Users/imraanarbab/miniconda3/envs/sklearn-env/lib/python3.11/site-packages/sklearn/model_selection/_validation.py\", line 686, in _fit_and_score\n",
      "    estimator.fit(X_train, y_train, **fit_params)\n",
      "  File \"/Users/imraanarbab/miniconda3/envs/sklearn-env/lib/python3.11/site-packages/sklearn/tree/_classes.py\", line 1247, in fit\n",
      "    super().fit(\n",
      "  File \"/Users/imraanarbab/miniconda3/envs/sklearn-env/lib/python3.11/site-packages/sklearn/tree/_classes.py\", line 177, in fit\n",
      "    self._validate_params()\n",
      "  File \"/Users/imraanarbab/miniconda3/envs/sklearn-env/lib/python3.11/site-packages/sklearn/base.py\", line 600, in _validate_params\n",
      "    validate_parameter_constraints(\n",
      "  File \"/Users/imraanarbab/miniconda3/envs/sklearn-env/lib/python3.11/site-packages/sklearn/utils/_param_validation.py\", line 97, in validate_parameter_constraints\n",
      "    raise InvalidParameterError(\n",
      "sklearn.utils._param_validation.InvalidParameterError: The 'criterion' parameter of DecisionTreeRegressor must be a str among {'poisson', 'absolute_error', 'squared_error', 'friedman_mse'}. Got 'mse' instead.\n",
      "\n",
      "  warnings.warn(some_fits_failed_message, FitFailedWarning)\n",
      "/Users/imraanarbab/miniconda3/envs/sklearn-env/lib/python3.11/site-packages/sklearn/model_selection/_search.py:952: UserWarning: One or more of the test scores are non-finite: [       nan        nan 0.9999331  0.99993325]\n",
      "  warnings.warn(\n"
     ]
    }
   ],
   "source": [
    "import pandas as pd\n",
    "from sklearn.model_selection import GridSearchCV, ShuffleSplit\n",
    "from sklearn.linear_model import LinearRegression, Lasso\n",
    "from sklearn.tree import DecisionTreeRegressor\n",
    "\n",
    "# Assuming you have defined X and y as follows:\n",
    "# X = df12.drop(['price'], axis='columns')\n",
    "# y = df12['price']\n",
    "\n",
    "# Convert y to a 1-dimensional Series if needed\n",
    "if isinstance(y, pd.DataFrame):\n",
    "    y = y.squeeze()\n",
    "\n",
    "def find_best_model_using_gridsearchcv(X, y):\n",
    "    algos = {\n",
    "        'linear_regression': {\n",
    "            'model': LinearRegression(),\n",
    "            'params': {\n",
    "                # Remove 'normalize' parameter from the LinearRegression model\n",
    "            }\n",
    "        },\n",
    "        'lasso': {\n",
    "            'model': Lasso(),\n",
    "            'params': {\n",
    "                'alpha': [1, 2],\n",
    "                'selection': ['random', 'cyclic']\n",
    "            }\n",
    "        },\n",
    "        'decision_tree': {\n",
    "            'model': DecisionTreeRegressor(),\n",
    "            'params': {\n",
    "                'criterion': ['mse', 'friedman_mse'],\n",
    "                'splitter': ['best', 'random']\n",
    "            }\n",
    "        }\n",
    "    }\n",
    "    scores = []\n",
    "    cv = ShuffleSplit(n_splits=5, test_size=0.2, random_state=0)\n",
    "    for algo_name, config in algos.items():\n",
    "        gs = GridSearchCV(config['model'], config['params'], cv=cv, return_train_score=False)\n",
    "        gs.fit(X, y)\n",
    "        scores.append({\n",
    "            'model': algo_name,\n",
    "            'best_score': gs.best_score_,\n",
    "            'best_params': gs.best_params_\n",
    "        })\n",
    "\n",
    "    return pd.DataFrame(scores, columns=['model', 'best_score', 'best_params'])\n",
    "\n",
    "# Perform grid search cross-validation to find the best hyperparameters for each model\n",
    "result_df = find_best_model_using_gridsearchcv(X, y)\n",
    "print(result_df)\n"
   ]
  },
  {
   "cell_type": "code",
   "execution_count": null,
   "id": "607019a5-77b6-49da-be30-873c71732320",
   "metadata": {},
   "outputs": [],
   "source": []
  }
 ],
 "metadata": {
  "kernelspec": {
   "display_name": "Python 3 (ipykernel)",
   "language": "python",
   "name": "python3"
  },
  "language_info": {
   "codemirror_mode": {
    "name": "ipython",
    "version": 3
   },
   "file_extension": ".py",
   "mimetype": "text/x-python",
   "name": "python",
   "nbconvert_exporter": "python",
   "pygments_lexer": "ipython3",
   "version": "3.11.3"
  }
 },
 "nbformat": 4,
 "nbformat_minor": 5
}
